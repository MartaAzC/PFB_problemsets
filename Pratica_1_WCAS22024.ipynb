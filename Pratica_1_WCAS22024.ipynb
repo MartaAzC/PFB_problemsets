{
  "nbformat": 4,
  "nbformat_minor": 0,
  "metadata": {
    "colab": {
      "provenance": [],
      "include_colab_link": true
    },
    "kernelspec": {
      "name": "python3",
      "display_name": "Python 3"
    },
    "language_info": {
      "name": "python"
    }
  },
  "cells": [
    {
      "cell_type": "markdown",
      "metadata": {
        "id": "view-in-github",
        "colab_type": "text"
      },
      "source": [
        "<a href=\"https://colab.research.google.com/github/MartaAzC/PFB_problemsets/blob/main/Pratica_1_WCAS22024.ipynb\" target=\"_parent\"><img src=\"https://colab.research.google.com/assets/colab-badge.svg\" alt=\"Open In Colab\"/></a>"
      ]
    },
    {
      "cell_type": "markdown",
      "source": [
        "Data: 14/09/2024\n",
        "\n",
        "Objetivo: Importação de dados"
      ],
      "metadata": {
        "id": "8OOiwjn6o358"
      }
    },
    {
      "cell_type": "code",
      "execution_count": null,
      "metadata": {
        "colab": {
          "base_uri": "https://localhost:8080/"
        },
        "id": "YLq5Alw0om4U",
        "outputId": "ee3c5b78-85b6-4505-ce66-e6a3e14002c5"
      },
      "outputs": [
        {
          "output_type": "stream",
          "name": "stdout",
          "text": [
            "Mounted at /content/drive/\n"
          ]
        }
      ],
      "source": [
        "# Montar Google Drive\n",
        "from google.colab import drive\n",
        "drive.mount('/content/drive/')"
      ]
    },
    {
      "cell_type": "code",
      "source": [
        "# Criar uma pasta no Google Drive\n",
        "import os\n",
        "!ls"
      ],
      "metadata": {
        "colab": {
          "base_uri": "https://localhost:8080/"
        },
        "id": "jYLfNDxgoxis",
        "outputId": "c400dec4-ae7d-4bc1-ec22-2ed467f986e6"
      },
      "execution_count": null,
      "outputs": [
        {
          "output_type": "stream",
          "name": "stdout",
          "text": [
            "drive  sample_data\n"
          ]
        }
      ]
    },
    {
      "cell_type": "code",
      "source": [
        "##### os.makedirs('/content/drive/MyDrive/Pratica_1', exist_ok=True) # <--- Como fazer comentário na célula\n",
        "\n",
        "\"\"\"\n",
        "Outro Jeito é assim que faz comentário\n",
        "\"\"\""
      ],
      "metadata": {
        "id": "AME5XKiXpCpt",
        "colab": {
          "base_uri": "https://localhost:8080/",
          "height": 35
        },
        "outputId": "b30ff6a1-7231-441d-d61d-23c51f8521e2"
      },
      "execution_count": null,
      "outputs": [
        {
          "output_type": "execute_result",
          "data": {
            "text/plain": [
              "'\\nOutro Jeito é assim que faz comentário\\n'"
            ],
            "application/vnd.google.colaboratory.intrinsic+json": {
              "type": "string"
            }
          },
          "metadata": {},
          "execution_count": 3
        }
      ]
    },
    {
      "cell_type": "code",
      "source": [
        "# Importar bibliotecas necessárias\n",
        "import pandas as pd\n",
        "\n",
        "# Carregar arquivo CSV\n",
        "csv_file_path = '/content/drive/MyDrive/exemplo_mt_2018_2024.csv'\n",
        "df_csv = pd.read_csv(csv_file_path)\n",
        "\n",
        "# Exibir as primeiras linhas dos arquivos carregados\n",
        "print(df_csv.head())"
      ],
      "metadata": {
        "id": "ryVWug7ho2xc",
        "collapsed": true
      },
      "execution_count": null,
      "outputs": []
    },
    {
      "cell_type": "code",
      "source": [
        "# Carregar arquivo XLSX (Excel)\n",
        "xlsx_file_path = '/content/drive/MyDrive/Pratica_1/arquivo.xlsx'\n",
        "df_xlsx = pd.read_excel(xlsx_file_path)\n",
        "\n",
        "# Exibir as primeiras linhas dos arquivos carregados\n",
        "print(df_xlsx.head())"
      ],
      "metadata": {
        "id": "JpodDP_CpT7G"
      },
      "execution_count": null,
      "outputs": []
    },
    {
      "cell_type": "code",
      "source": [
        "# Instalar geopandas no Colab\n",
        "!pip install geopandas\n",
        "\n",
        "# Deixa sem o registro de instalação do pacote\n",
        "from IPython.display import clear_output\n",
        "clear_output()"
      ],
      "metadata": {
        "id": "OdoO0YKipm8N"
      },
      "execution_count": null,
      "outputs": []
    },
    {
      "cell_type": "code",
      "source": [
        "# Carregar shapefile\n",
        "import geopandas as gpd\n",
        "\n",
        "shapefile_path = '/content/drive/MyDrive/Pratica_1/arquivo.shp'\n",
        "gdf = gpd.read_file(shapefile_path)\n",
        "\n",
        "# Exibir as primeiras linhas do shapefile carregado\n",
        "print(gdf.head())"
      ],
      "metadata": {
        "id": "a-Vsdn61poHK"
      },
      "execution_count": null,
      "outputs": []
    },
    {
      "cell_type": "code",
      "source": [
        "# Como saber quanto de RAM estou usando ... questão mega importante dentro do Colab\n",
        "from psutil import virtual_memory\n",
        "ram_gb = virtual_memory().total / 1e9\n",
        "print('Your runtime has {:.1f} gigabytes of available RAM\\n'.format(ram_gb))\n",
        "\n",
        "if ram_gb < 20:\n",
        "  print('Not using a high-RAM runtime')\n",
        "else:\n",
        "  print('You are using a high-RAM runtime!')"
      ],
      "metadata": {
        "id": "bfOMc13VqAuR"
      },
      "execution_count": null,
      "outputs": []
    },
    {
      "cell_type": "code",
      "source": [
        "import pandas as pd\n",
        "from io import StringIO\n",
        "\n",
        "# Podemos fazer de forma mais rápida\n",
        "table_data = \"\"\"\n",
        "Class_ID;Level;Description;Descricao;Color\n",
        "1;1;Forest;Floresta;#129912\n",
        "3;2;Forest Formation;Formação Florestal;#006400\n",
        "4;2;Savanna Formation;Formação Savânica;#00ff00\n",
        "5;2;Mangrove;Mangue;#687537\n",
        "6;2;Floodable Forest;Floresta Alagável;#026975\n",
        "49;2;Wooded Sandbank Vegetation;Restinga Arborizada;#6b9932\n",
        "10;1;Herbaceous and Shrubby Vegetation;Vegetação Herbácea e Arbustiva;#ad975a\n",
        "11;2;Wetland;Campo Alagado e Área Pantanosa;#45c2a5\n",
        "12;2;Grassland;Formação Campestre;#b8af4f\n",
        "32;2;Salt Flat;Apicum;#968c46\n",
        "29;2;Rocky Outcrop;Afloramento Rochoso;#ff8C00\n",
        "50;2;Herbaceous Sandbank Vegetation;Restinga Herbácea;#66ffcc\n",
        "14;1;Farming;Agropecuária ;#ffffb2\n",
        "15;2;Pasture;Pastagem;#ffd966\n",
        "18;2;Agriculture;Agricultura;#e974ed\n",
        "19;3;Temporary Crop;Lavoura Temporária;#d5a6bd\n",
        "39;4;Soybean;Soja;#c59ff4\n",
        "20;4;Sugar cane;Cana;#c27ba0\n",
        "40;4;Rice;Arroz;#982c9e\n",
        "62;4;Cotton (beta);Algodão (beta);#660066\n",
        "41;4;Other Temporary Crops;Outras Lavouras Temporárias;#e787f8\n",
        "36;3;Perennial Crop;Lavoura Perene;#f3b4f1\n",
        "46;4;Coffee;Café;#cca0d4\n",
        "47;4;Citrus;Citrus;#d082de\n",
        "35;4;Palm Oil;Dendê;#9065d0\n",
        "48;4;Other Perennial Crops;Outras Lavouras Perenes;#cd49e4\n",
        "9;2;Forest Plantation;Silvicultura;#935132\n",
        "21;2;Mosaic of Uses;Mosaico de Usos;#fff3bf\n",
        "22;1;Non vegetated area;Área não Vegetada;#ea9999\n",
        "23;2;Beach, Dune and Sand Spot;Praia, Duna e Areal;#dd7e6b\n",
        "24;2;Urban Area;Área Urbanizada;#af2a2a\n",
        "30;2;Mining;Mineração;#8a2be2\n",
        "25;2;Other non Vegetated Areas;Outras Áreas não Vegetadas;#ff99ff\n",
        "26;1;Water;Corpo D'água ;#0000ff\n",
        "33;2;River, Lake and Ocean;Rio, Lago e Oceano;#0000ff\n",
        "31;2;Aquaculture;Aquicultura;#29eee4\n",
        "27;1;Non Observed;Não observado ;#D5D5E5\n",
        "\"\"\"\n",
        "\n",
        "# Cria um DataFrame a partir dos dados da tabela\n",
        "df = pd.read_csv(StringIO(table_data), sep=';', index_col=False)\n",
        "df"
      ],
      "metadata": {
        "id": "7vYWxS3Xr-qO"
      },
      "execution_count": null,
      "outputs": []
    },
    {
      "cell_type": "code",
      "source": [
        "#Export to CSV\n",
        "\n",
        "#df.to_csv(f'dado_1981_2023_{number_id}.csv', sep=';', encoding='utf-8')\n",
        "#!cp dado_1981_2023_{number_id}.csv \"/content/\""
      ],
      "metadata": {
        "id": "AGnNK8QGxowT"
      },
      "execution_count": null,
      "outputs": []
    }
  ]
}